{
 "cells": [
  {
   "cell_type": "code",
   "execution_count": 24,
   "id": "e93c1376",
   "metadata": {},
   "outputs": [],
   "source": [
    "import pandas as pd\n",
    "import numpy as np"
   ]
  },
  {
   "cell_type": "code",
   "execution_count": 9,
   "id": "309ccdb8",
   "metadata": {},
   "outputs": [],
   "source": [
    "df = pd.read_excel('corr_adv.xlsx', index_col=0)"
   ]
  },
  {
   "cell_type": "code",
   "execution_count": 17,
   "id": "22a3861f",
   "metadata": {},
   "outputs": [
    {
     "name": "stdout",
     "output_type": "stream",
     "text": [
      "(40, 40)\n"
     ]
    }
   ],
   "source": [
    "num_vars = df.shape[0]\n",
    "print(df.shape)"
   ]
  },
  {
   "cell_type": "code",
   "execution_count": 22,
   "id": "55200575",
   "metadata": {},
   "outputs": [
    {
     "data": {
      "text/plain": [
       "(40, 40)"
      ]
     },
     "execution_count": 22,
     "metadata": {},
     "output_type": "execute_result"
    }
   ],
   "source": [
    "corr_mat = df.to_numpy()\n",
    "corr_mat.shape"
   ]
  },
  {
   "cell_type": "code",
   "execution_count": 57,
   "id": "61449294",
   "metadata": {},
   "outputs": [
    {
     "data": {
      "text/plain": [
       "True"
      ]
     },
     "execution_count": 57,
     "metadata": {},
     "output_type": "execute_result"
    }
   ],
   "source": [
    "np.all(np.linalg.eigvals(corr_mat) > 0)"
   ]
  },
  {
   "cell_type": "code",
   "execution_count": 152,
   "id": "377675c6",
   "metadata": {},
   "outputs": [],
   "source": [
    "def generate_synthetic_data(corr_mat, mean=None, std=None, size=300):\n",
    "    num_vars = corr_mat.shape[0]\n",
    "    \n",
    "    mean = np.zeros(num_vars) if mean is None else mean\n",
    "    std = np.identity(num_vars) if std is None else np.diag(std)\n",
    "    cov = std.dot(corr_mat).dot(std)\n",
    "    \n",
    "    data = np.random.multivariate_normal(mean=mean, cov=cov, size=size)\n",
    "        \n",
    "    return data"
   ]
  },
  {
   "cell_type": "code",
   "execution_count": 203,
   "id": "d6139d7f",
   "metadata": {},
   "outputs": [],
   "source": [
    "data = generate_synthetic_data(corr_mat, std=np.arange(40)*1000000+1)\n",
    "\n"
   ]
  },
  {
   "cell_type": "code",
   "execution_count": 204,
   "id": "dd3d5a4e",
   "metadata": {},
   "outputs": [],
   "source": [
    "x = np.diag(np.arange(40))\n",
    "x.shape\n",
    "\n",
    "cov = x.dot(corr_mat).dot(x)\n"
   ]
  },
  {
   "cell_type": "code",
   "execution_count": 205,
   "id": "160a0404",
   "metadata": {},
   "outputs": [
    {
     "data": {
      "text/plain": [
       "(300, 40)"
      ]
     },
     "execution_count": 205,
     "metadata": {},
     "output_type": "execute_result"
    }
   ],
   "source": [
    "data.shape"
   ]
  },
  {
   "cell_type": "code",
   "execution_count": 206,
   "id": "68dabd84",
   "metadata": {},
   "outputs": [],
   "source": [
    "corr = np.corrcoef(data, rowvar=False)"
   ]
  },
  {
   "cell_type": "code",
   "execution_count": 207,
   "id": "8d881d9f",
   "metadata": {},
   "outputs": [
    {
     "data": {
      "text/plain": [
       "(40, 40)"
      ]
     },
     "execution_count": 207,
     "metadata": {},
     "output_type": "execute_result"
    }
   ],
   "source": [
    "corr.shape"
   ]
  },
  {
   "cell_type": "code",
   "execution_count": 208,
   "id": "2bff3c68",
   "metadata": {},
   "outputs": [
    {
     "data": {
      "text/plain": [
       "1.7511418276503319"
      ]
     },
     "execution_count": 208,
     "metadata": {},
     "output_type": "execute_result"
    }
   ],
   "source": [
    "np.sqrt(sum(sum((corr - corr_mat)**2)))"
   ]
  },
  {
   "cell_type": "code",
   "execution_count": 140,
   "id": "ad3408fd",
   "metadata": {},
   "outputs": [
    {
     "data": {
      "text/plain": [
       "array([0., 0., 0., 0.])"
      ]
     },
     "execution_count": 140,
     "metadata": {},
     "output_type": "execute_result"
    }
   ],
   "source": [
    "np.zeros(4)"
   ]
  },
  {
   "cell_type": "code",
   "execution_count": 97,
   "id": "89dc461e",
   "metadata": {},
   "outputs": [
    {
     "data": {
      "text/plain": [
       "array([ 0,  1,  2,  3,  4,  5,  6,  7,  8,  9, 10, 11, 12, 13, 14, 15, 16,\n",
       "       17, 18, 19, 20, 21, 22, 23, 24, 25, 26, 27, 28, 29, 30, 31, 32, 33,\n",
       "       34, 35, 36, 37, 38, 39])"
      ]
     },
     "execution_count": 97,
     "metadata": {},
     "output_type": "execute_result"
    }
   ],
   "source": [
    "np.arange(40)"
   ]
  },
  {
   "cell_type": "code",
   "execution_count": null,
   "id": "08f1fdf1",
   "metadata": {},
   "outputs": [],
   "source": []
  }
 ],
 "metadata": {
  "kernelspec": {
   "display_name": "zeiss_task1",
   "language": "python",
   "name": "zeiss_task1"
  },
  "language_info": {
   "codemirror_mode": {
    "name": "ipython",
    "version": 3
   },
   "file_extension": ".py",
   "mimetype": "text/x-python",
   "name": "python",
   "nbconvert_exporter": "python",
   "pygments_lexer": "ipython3",
   "version": "3.9.12"
  }
 },
 "nbformat": 4,
 "nbformat_minor": 5
}
