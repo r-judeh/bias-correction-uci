{
 "cells": [
  {
   "cell_type": "code",
   "execution_count": 210,
   "id": "e93c1376",
   "metadata": {},
   "outputs": [],
   "source": [
    "import pandas as pd\n",
    "import numpy as np"
   ]
  },
  {
   "cell_type": "code",
   "execution_count": 211,
   "id": "53bf29ca",
   "metadata": {},
   "outputs": [],
   "source": [
    "def read_corr_mat(file_name):\n",
    "    df = pd.read_excel('corr_adv.xlsx', index_col=0)\n",
    "    corr_mat = df.to_numpy()\n",
    "\n",
    "    return corr_mat"
   ]
  },
  {
   "cell_type": "code",
   "execution_count": 266,
   "id": "8448e37a",
   "metadata": {},
   "outputs": [],
   "source": [
    "def generate_synthetic_data(corr_mat, mean=None, std=None, size=300):\n",
    "    num_vars = corr_mat.shape[0]\n",
    "    \n",
    "    mean = np.zeros(num_vars) if mean is None else mean\n",
    "    std = np.identity(num_vars) if std is None else np.diag(std)\n",
    "    cov = std.dot(corr_mat).dot(std)\n",
    "    \n",
    "    data = np.random.multivariate_normal(mean=mean, cov=cov, size=size)\n",
    "        \n",
    "    return data"
   ]
  },
  {
   "cell_type": "code",
   "execution_count": 267,
   "id": "ae3c86fa",
   "metadata": {},
   "outputs": [],
   "source": [
    "corr_mat = read_corr_mat('corr_adv.xlsx')"
   ]
  },
  {
   "cell_type": "code",
   "execution_count": 268,
   "id": "2024d5e1",
   "metadata": {},
   "outputs": [
    {
     "data": {
      "text/plain": [
       "True"
      ]
     },
     "execution_count": 268,
     "metadata": {},
     "output_type": "execute_result"
    }
   ],
   "source": [
    "np.all(np.linalg.eigvals(corr_mat) > 0)"
   ]
  },
  {
   "cell_type": "code",
   "execution_count": null,
   "id": "fc7da279",
   "metadata": {},
   "outputs": [],
   "source": []
  },
  {
   "cell_type": "code",
   "execution_count": 269,
   "id": "71b20f44",
   "metadata": {},
   "outputs": [],
   "source": [
    "data = generate_synthetic_data(corr_mat, std=np.arange(40)*10+1)\n",
    "\n"
   ]
  },
  {
   "cell_type": "code",
   "execution_count": 270,
   "id": "23d04c38",
   "metadata": {},
   "outputs": [],
   "source": [
    "corr = np.corrcoef(data, rowvar=False)"
   ]
  },
  {
   "cell_type": "code",
   "execution_count": 271,
   "id": "0b72cb33",
   "metadata": {},
   "outputs": [],
   "source": [
    "n_iter = 10000\n",
    "true_val = np.sqrt(sum(sum((corr - corr_mat)**2)))\n",
    "vals = []\n",
    "for i in range(n_iter):\n",
    "    np.random.shuffle(corr)\n",
    "    vals.append(np.sqrt(sum(sum((corr - corr_mat)**2))))\n",
    "    \n",
    "perm_p = ((np.sum(true_val >= vals))+1)/(n_iter+1) # two-tailed test\n",
    "\n",
    "        "
   ]
  },
  {
   "cell_type": "code",
   "execution_count": 272,
   "id": "c1103811",
   "metadata": {},
   "outputs": [
    {
     "data": {
      "text/plain": [
       "9.999000099990002e-05"
      ]
     },
     "execution_count": 272,
     "metadata": {},
     "output_type": "execute_result"
    }
   ],
   "source": [
    "perm_p"
   ]
  },
  {
   "cell_type": "code",
   "execution_count": 228,
   "id": "9fe1c932",
   "metadata": {},
   "outputs": [
    {
     "data": {
      "text/plain": [
       "2.078268927915633"
      ]
     },
     "execution_count": 228,
     "metadata": {},
     "output_type": "execute_result"
    }
   ],
   "source": [
    "np.sqrt(sum(sum((corr - corr_mat)**2)))"
   ]
  },
  {
   "cell_type": "code",
   "execution_count": null,
   "id": "1e5cfcd0",
   "metadata": {},
   "outputs": [],
   "source": []
  }
 ],
 "metadata": {
  "kernelspec": {
   "display_name": "zeiss_task1",
   "language": "python",
   "name": "zeiss_task1"
  },
  "language_info": {
   "codemirror_mode": {
    "name": "ipython",
    "version": 3
   },
   "file_extension": ".py",
   "mimetype": "text/x-python",
   "name": "python",
   "nbconvert_exporter": "python",
   "pygments_lexer": "ipython3",
   "version": "3.9.12"
  }
 },
 "nbformat": 4,
 "nbformat_minor": 5
}
