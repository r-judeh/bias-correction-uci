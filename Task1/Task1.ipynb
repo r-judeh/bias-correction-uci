{
 "cells": [
  {
   "cell_type": "markdown",
   "id": "73429616",
   "metadata": {},
   "source": [
    "**Python Version Used: 3.10.4**"
   ]
  },
  {
   "cell_type": "code",
   "execution_count": null,
   "id": "e93c1376",
   "metadata": {},
   "outputs": [],
   "source": [
    "import pandas as pd\n",
    "import numpy as np\n",
    "\n",
    "import matplotlib.pyplot as plt\n",
    "import seaborn as sns\n",
    "\n",
    "from typing import Union, Tuple"
   ]
  },
  {
   "cell_type": "markdown",
   "id": "59b1e958",
   "metadata": {},
   "source": [
    "## Read and Visualize Correlation Matrix"
   ]
  },
  {
   "cell_type": "code",
   "execution_count": null,
   "id": "53bf29ca",
   "metadata": {},
   "outputs": [],
   "source": [
    "# Read correlation matrix to a numpy array\n",
    "corr_mat = pd.read_excel('corr_adv.xlsx', index_col=0).values\n",
    "\n",
    "ax = sns.heatmap(corr_mat, annot=False, xticklabels=False, yticklabels=False)"
   ]
  },
  {
   "cell_type": "markdown",
   "id": "233ea472",
   "metadata": {},
   "source": [
    "## Generate Synthetic Data from a Multi-Variate Normal Distribution"
   ]
  },
  {
   "cell_type": "code",
   "execution_count": null,
   "id": "8448e37a",
   "metadata": {},
   "outputs": [],
   "source": [
    "def generate_synthetic_data(corr_mat: np.ndarray, \n",
    "                            mean: Union[list, np.ndarray] = None,\n",
    "                            std: Union[list, np.ndarray] = None,\n",
    "                            size: int = 300) -> np.ndarray:\n",
    "    \n",
    "    \"\"\"A function that generates synthetic data from a multi-variate nromal distribution \n",
    "    given a correlation matrix.\n",
    "    \n",
    "    The function generates data whose variables are correlated according to a given correlation matrix. \n",
    "    \n",
    "    The function first converts the correlation matrix to a covariance matrix given the std of each \n",
    "    variable as input. If std is None, the std is then equal to an identity matrix and the generated\n",
    "    covariance matrix is equal to the correlation matrix. \n",
    "    \n",
    "    The covariance matrix is then used to randomly sample data from a multi-variate normal distribution. \n",
    "    The means of the distribution is given by mean. If None, then a mean of zero is used for each of the\n",
    "    variables.\n",
    "    \n",
    "    Args:\n",
    "        corr_mat: a positive semidefinite correlation matrix. \n",
    "        mean: desired means of the variables. \n",
    "        std: desired variances of the variables.\n",
    "        size: number of samples to draw from the normal distribution.\n",
    "        \n",
    "    Returns: sampled data with shape (size, corr_mat.shape[0])\n",
    "    \n",
    "    \"\"\"\n",
    "    \n",
    "    # Assert the input correlation matrix is positive semidefinite\n",
    "    assert np.all(np.linalg.eigvals(corr_mat) > 0), \"Correlation matrix must be positive semidefinite\"\n",
    "    \n",
    "    # Number of variables\n",
    "    num_vars = corr_mat.shape[0]\n",
    "    \n",
    "    if mean is not None:\n",
    "        assert len(mean) == num_vars, f\"mean has {len(mean)} values, it must have {num_vars}\"\n",
    "        \n",
    "    if std is not None:\n",
    "        assert len(std) == num_vars, f\"std has {len(std)} values, it must have {num_vars}\"\n",
    "\n",
    "    \n",
    "    # Assign mean=0 & std=1 if they are given as None, convert std to a diagonal matrix\n",
    "    mean = np.zeros(num_vars) if mean is None else mean\n",
    "    std = np.identity(num_vars) if std is None else np.diag(std) \n",
    "        \n",
    "    # Convert correlation to covariance (scale with desired range of values)\n",
    "    cov = std @ corr_mat @ std.T\n",
    "        \n",
    "    # Sample data from a normal distribution\n",
    "    data = np.random.default_rng().multivariate_normal(mean=mean, cov=cov, size=size)\n",
    "        \n",
    "    return data\n",
    "\n",
    "\n",
    "# Generate synthetic data given the correlation matrix from \"corr_adv.xlsx\"\n",
    "data = generate_synthetic_data(corr_mat, mean=np.linspace(0, 10, 40), std=np.linspace(0, 1, 40), size=300)\n",
    "\n",
    "print(f'Shape of the generated data is: {data.shape}')"
   ]
  },
  {
   "cell_type": "markdown",
   "id": "7fdca8f7",
   "metadata": {},
   "source": [
    "## Comapre Correlation Matrices"
   ]
  },
  {
   "cell_type": "code",
   "execution_count": null,
   "id": "23d04c38",
   "metadata": {
    "scrolled": false
   },
   "outputs": [],
   "source": [
    "# Visualize the original correlation matrix vs. the calculate correlation matrix of the synthetic data\n",
    "\n",
    "# Calculated correlation matrix\n",
    "data_corr_mat = np.corrcoef(data, rowvar=False)\n",
    "\n",
    "# Visualize both correlation matrices\n",
    "fig, axs = plt.subplots(1, 2, figsize=(20, 8))\n",
    "\n",
    "# Heatmaps\n",
    "sns.heatmap(corr_mat, ax=axs[0], xticklabels=False, yticklabels=False)\n",
    "sns.heatmap(data_corr_mat, ax=axs[1], xticklabels=False, yticklabels=False)\n",
    "\n",
    "# Titles\n",
    "_ = axs[0].set_title('Original Correlation Matrix', fontsize=16)\n",
    "_ = axs[1].set_title('Calculated Correlation Matrix', fontsize=16)"
   ]
  },
  {
   "cell_type": "code",
   "execution_count": null,
   "id": "0b72cb33",
   "metadata": {},
   "outputs": [],
   "source": [
    "def corr_similarity(corr_mat1: np.ndarray,\n",
    "                    corr_mat2: np.ndarray, \n",
    "                    n_iter: int = 10000) -> Tuple[float, float, np.ndarray]:\n",
    "    \n",
    "    \"\"\"A function that tests the similarity of two given correlation matrices using F-norm of the element-wise\n",
    "    differences of the two correlation matrices. \n",
    "    \n",
    "    The function also calculates the p-value of the calculated metric using permutation testing. \n",
    "    \n",
    "    Args:\n",
    "        corr_mat1: correlation matrix number 1\n",
    "        corr_mat2: correlation matrix number 2\n",
    "    \n",
    "    Returns: the Frobenius norm of the element-wise differences, the p-value, and the norms resulting from \n",
    "    permutations\n",
    "    \n",
    "    \n",
    "    References: \"Towards Data Science, How to measure similarity between two correlation matrices, Jin\"\n",
    "    \n",
    "    \"\"\"\n",
    "\n",
    "    # Assert both matrices have the same shape \n",
    "    assert corr_mat1.shape == corr_mat2.shape, \"Both correlation matrices must have the same shape\"\n",
    "    \n",
    "    # Frobenius norm of element-wise differences matrix\n",
    "    f_norm = np.linalg.norm(corr_mat2 - corr_mat1)\n",
    "    \n",
    "    # Variable indices \n",
    "    var_idx = np.arange(corr_mat2.shape[0])\n",
    "\n",
    "    # List to hold f_norm of the permutation test\n",
    "    f_norm_permute = []\n",
    "    \n",
    "    for i in range(n_iter):\n",
    "        \n",
    "        # Shuffle indices\n",
    "        var_idx = np.random.default_rng().permutation(var_idx)\n",
    "        \n",
    "        # Calculate f_norm of corr_mat1 with shuffled corr_mat2\n",
    "        f_norm_permute.append(np.linalg.norm(corr_mat2[np.ix_(var_idx, var_idx)] - corr_mat1))\n",
    "                \n",
    "    # Calculate p-value\n",
    "    p_value = (np.sum(f_norm_permute <= f_norm) + 1) / (n_iter + 1)\n",
    "\n",
    "    return f_norm, p_value, np.array(f_norm_permute)\n",
    "\n",
    "\n",
    "# Calculate similarity between original correlation matrix and the calculated one from the sampled data\n",
    "f_norm, p_value, f_norm_permute = corr_similarity(corr_mat, data_corr_mat, n_iter=20000)\n",
    "\n",
    "print(f'F-norm: {f_norm:.2f} with p_value: {p_value:.1e}')"
   ]
  },
  {
   "cell_type": "markdown",
   "id": "e056b783",
   "metadata": {},
   "source": [
    "The correlation similarity test shows that the similarity calculated between the original correlation matrix and the calculated correlation of the sampled data is significant because the p-value is much smaller than 0.05"
   ]
  }
 ],
 "metadata": {
  "kernelspec": {
   "display_name": "test-env3",
   "language": "python",
   "name": "test-env3"
  },
  "language_info": {
   "codemirror_mode": {
    "name": "ipython",
    "version": 3
   },
   "file_extension": ".py",
   "mimetype": "text/x-python",
   "name": "python",
   "nbconvert_exporter": "python",
   "pygments_lexer": "ipython3",
   "version": "3.10.4"
  }
 },
 "nbformat": 4,
 "nbformat_minor": 5
}
